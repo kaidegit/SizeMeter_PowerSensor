{
 "cells": [
  {
   "cell_type": "code",
   "execution_count": 1,
   "outputs": [],
   "source": [
    "import PowerSensor as ps\n",
    "import numpy as np\n",
    "import cv2 as cv\n",
    "import time\n",
    "from IPython.display import clear_output"
   ],
   "metadata": {
    "collapsed": false,
    "pycharm": {
     "name": "#%%\n"
    }
   }
  },
  {
   "cell_type": "code",
   "execution_count": 2,
   "outputs": [],
   "source": [
    "debug_flag = True"
   ],
   "metadata": {
    "collapsed": false,
    "pycharm": {
     "name": "#%%\n"
    }
   }
  },
  {
   "cell_type": "code",
   "execution_count": 3,
   "outputs": [],
   "source": [
    "cam = ps.ImageSensor()"
   ],
   "metadata": {
    "collapsed": false,
    "pycharm": {
     "name": "#%%\n"
    }
   }
  },
  {
   "cell_type": "code",
   "execution_count": 50,
   "outputs": [
    {
     "name": "stdout",
     "output_type": "stream",
     "text": [
      "unknown color\n"
     ]
    },
    {
     "data": {
      "image/png": "[encoded data removed]",
      "text/plain": "<IPython.core.display.Image object>"
     },
     "metadata": {},
     "output_type": "display_data"
    },
    {
     "data": {
      "image/png": "[encoded data removed]",
      "text/plain": "<IPython.core.display.Image object>"
     },
     "metadata": {},
     "output_type": "display_data"
    },
    {
     "name": "stdout",
     "output_type": "stream",
     "text": [
      "4.88188305513\n"
     ]
    },
    {
     "data": {
      "image/png": "[encoded data removed]",
      "text/plain": "<IPython.core.display.Image object>"
     },
     "metadata": {},
     "output_type": "display_data"
    },
    {
     "data": {
      "image/png": "[encoded data removed]",
      "text/plain": "<IPython.core.display.Image object>"
     },
     "metadata": {},
     "output_type": "display_data"
    },
    {
     "name": "stdout",
     "output_type": "stream",
     "text": [
      "0\n"
     ]
    },
    {
     "ename": "IndexError",
     "evalue": "list index out of range",
     "output_type": "error",
     "traceback": [
      "\u001B[0;31m\u001B[0m",
      "\u001B[0;31mIndexError\u001B[0mTraceback (most recent call last)",
      "\u001B[0;32m<ipython-input-50-bdcc40d0e0c3>\u001B[0m in \u001B[0;36m<module>\u001B[0;34m()\u001B[0m\n\u001B[1;32m    121\u001B[0m         \u001B[0m_\u001B[0m\u001B[0;34m,\u001B[0m \u001B[0mcontours\u001B[0m\u001B[0;34m,\u001B[0m \u001B[0m_\u001B[0m \u001B[0;34m=\u001B[0m \u001B[0mcv\u001B[0m\u001B[0;34m.\u001B[0m\u001B[0mfindContours\u001B[0m\u001B[0;34m(\u001B[0m\u001B[0mcanny\u001B[0m\u001B[0;34m,\u001B[0m \u001B[0mcv\u001B[0m\u001B[0;34m.\u001B[0m\u001B[0mRETR_EXTERNAL\u001B[0m\u001B[0;34m,\u001B[0m \u001B[0mcv\u001B[0m\u001B[0;34m.\u001B[0m\u001B[0mCHAIN_APPROX_SIMPLE\u001B[0m\u001B[0;34m)\u001B[0m\u001B[0;34m\u001B[0m\u001B[0m\n\u001B[1;32m    122\u001B[0m         \u001B[0;32mprint\u001B[0m \u001B[0mlen\u001B[0m\u001B[0;34m(\u001B[0m\u001B[0mcontours\u001B[0m\u001B[0;34m)\u001B[0m\u001B[0;34m\u001B[0m\u001B[0m\n\u001B[0;32m--> 123\u001B[0;31m         \u001B[0msum\u001B[0m \u001B[0;34m=\u001B[0m \u001B[0mcontours\u001B[0m\u001B[0;34m[\u001B[0m\u001B[0;36m0\u001B[0m\u001B[0;34m]\u001B[0m\u001B[0;34m.\u001B[0m\u001B[0mcopy\u001B[0m\u001B[0;34m(\u001B[0m\u001B[0;34m)\u001B[0m\u001B[0;34m\u001B[0m\u001B[0m\n\u001B[0m\u001B[1;32m    124\u001B[0m         \u001B[0;32mfor\u001B[0m \u001B[0mcontour\u001B[0m \u001B[0;32min\u001B[0m \u001B[0mcontours\u001B[0m\u001B[0;34m:\u001B[0m\u001B[0;34m\u001B[0m\u001B[0m\n\u001B[1;32m    125\u001B[0m             \u001B[0msum\u001B[0m \u001B[0;34m=\u001B[0m \u001B[0mnp\u001B[0m\u001B[0;34m.\u001B[0m\u001B[0mvstack\u001B[0m\u001B[0;34m(\u001B[0m\u001B[0;34m(\u001B[0m\u001B[0msum\u001B[0m\u001B[0;34m,\u001B[0m \u001B[0mcontour\u001B[0m\u001B[0;34m)\u001B[0m\u001B[0;34m)\u001B[0m\u001B[0;34m\u001B[0m\u001B[0m\n",
      "\u001B[0;31mIndexError\u001B[0m: list index out of range"
     ]
    }
   ],
   "source": [
    "while True:\n",
    "    if debug_flag:\n",
    "        time0 = time.time()\n",
    "    frame = cam.read_img_ori()\n",
    "    if debug_flag:\n",
    "        # ps.CommonFunction.show_img_jupyter(frame)\n",
    "        # time1 = time.time()\n",
    "        # fps = 1 / (time1 - time0)\n",
    "        # print fps\n",
    "        pass\n",
    "    roi = frame[170:250, 350:440].copy()\n",
    "    mask = np.zeros(roi.shape, roi.dtype)\n",
    "    if debug_flag:\n",
    "        pass\n",
    "        # ps.CommonFunction.show_img_jupyter(roi)\n",
    "    # 给明显的蓝绿红在mask上着色\n",
    "    blue_pixel = 0\n",
    "    green_pixel = 0\n",
    "    red_pixel = 0\n",
    "    # 0表示蓝，1表示绿，2表示红\n",
    "    color = -1\n",
    "    for i in range(roi.shape[0]):\n",
    "        for j in range(roi.shape[1]):\n",
    "            # print(frame.item(i, j, 0), frame.item(i, j, 1), frame.item(i, j, 2))\n",
    "            if (roi.item(i, j, 0) - roi.item(i, j, 1) > 50) and (roi.item(i, j, 0) - roi.item(i, j, 2) > 50):\n",
    "                color = 0\n",
    "                blue_pixel += 1\n",
    "                # print('blue')\n",
    "                # print(frame.item(i, j, 0), frame.item(i, j, 1), frame.item(i, j, 2))\n",
    "                mask[i, j] = [0, 255, 255]\n",
    "            elif (roi.item(i, j, 1) - roi.item(i, j, 0) > 30) and (roi.item(i, j, 1) - roi.item(i, j, 2) > 30):\n",
    "                color = 1\n",
    "                green_pixel += 1\n",
    "                # print('green')\n",
    "                # print(roi.item(i, j, 0), roi.item(i, j, 1), roi.item(i, j, 2))\n",
    "                mask[i, j] = [255, 0, 255]\n",
    "            elif (roi.item(i, j, 2) - roi.item(i, j, 1) > 30) and (roi.item(i, j, 2) - roi.item(i, j, 0) > 30):\n",
    "                color = 2\n",
    "                red_pixel += 1\n",
    "                # print('red')\n",
    "                # print(frame.item(i, j, 0), frame.item(i, j, 1), frame.item(i, j, 2))\n",
    "                mask[i, j] = [255, 255, 0]\n",
    "\n",
    "            # if (roi.item(i, j, 0) > roi.item(i, j, 1)) and (roi.item(i, j, 0) > roi.item(i, j, 2)) and \\\n",
    "            #     ((roi.item(i, j, 0) - roi.item(i, j, 1) > 50) or (roi.item(i, j, 0) - roi.item(i, j, 2) > 50)):\n",
    "            #     color = 0\n",
    "            #     blue_pixel += 1\n",
    "            #     mask[i, j] = [0, 255, 255]\n",
    "            # elif (roi.item(i, j, 1) > roi.item(i, j, 0)) and (roi.item(i, j, 1) > roi.item(i, j, 2)) and \\\n",
    "            #     ((roi.item(i, j, 1) - roi.item(i, j, 0) > 50) or (roi.item(i, j, 1) - roi.item(i, j, 2) > 50)):\n",
    "            #     color = 1\n",
    "            #     green_pixel += 1\n",
    "            #     mask[i, j] = [255, 0, 255]\n",
    "            # elif (roi.item(i, j, 2) > roi.item(i, j, 1)) and (roi.item(i, j, 2) > roi.item(i, j, 0)) and \\\n",
    "            #     ((roi.item(i, j, 2) - roi.item(i, j, 1) > 50) or (roi.item(i, j, 2) - roi.item(i, j, 0) > 50)):\n",
    "            #     color = 2\n",
    "            #     red_pixel += 1\n",
    "            #     mask[i, j] = [255, 255, 0]\n",
    "    # 判断图像的颜色\n",
    "    if blue_pixel > 100 or green_pixel > 100 or red_pixel > 100:\n",
    "        if blue_pixel > green_pixel and blue_pixel > red_pixel:\n",
    "            color = 0\n",
    "        elif green_pixel > blue_pixel and green_pixel > red_pixel:\n",
    "            color = 1\n",
    "        elif red_pixel > blue_pixel and red_pixel > green_pixel:\n",
    "            color = 2\n",
    "        else:\n",
    "            pass\n",
    "    else:\n",
    "        pass\n",
    "    # 根据判断出的颜色去除mask中的其他颜色\n",
    "    if color != -1:\n",
    "        for i in range(mask.shape[0]):\n",
    "            for j in range(mask.shape[1]):\n",
    "                if mask.item(i, j, color) != 0:\n",
    "                    mask[i, j] = [0, 0, 0]\n",
    "    if debug_flag:\n",
    "        clear_output(wait=True)\n",
    "        if blue_pixel > 100 or green_pixel > 100 or red_pixel > 100:\n",
    "            if blue_pixel > green_pixel and blue_pixel > red_pixel:\n",
    "                real_pixel = blue_pixel\n",
    "                print 'blue'\n",
    "            elif green_pixel > blue_pixel and green_pixel > red_pixel:\n",
    "                real_pixel = green_pixel\n",
    "                print 'green'\n",
    "            elif red_pixel > blue_pixel and red_pixel > green_pixel:\n",
    "                real_pixel = real_pixel\n",
    "                print 'red'\n",
    "            else:\n",
    "                real_pixel = -1\n",
    "                print 'unknown color'\n",
    "        else:\n",
    "            real_pixel = -1\n",
    "            print 'unknown color'\n",
    "        ps.CommonFunction.show_img_jupyter(mask)\n",
    "        ps.CommonFunction.show_img_jupyter(roi)\n",
    "        time1 = time.time()\n",
    "        fps = 1 / (time1 - time0)\n",
    "        print fps\n",
    "    # 腐蚀膨胀\n",
    "    kernel = cv.getStructuringElement(cv.MORPH_RECT, (4, 4))\n",
    "    dilate = cv.dilate(mask, kernel)\n",
    "    erode = cv.erode(dilate, kernel)\n",
    "    ps.CommonFunction.show_img_jupyter(erode)\n",
    "    # 边缘检测\n",
    "    canny = cv.Canny(mask, 120, 120 * 3)\n",
    "    ps.CommonFunction.show_img_jupyter(canny)\n",
    "    try:\n",
    "        # 找圆\n",
    "        circles = cv.HoughCircles(image=canny, method=cv.HOUGH_GRADIENT,\n",
    "                                  dp=1, minDist=200, param1=50, param2=20,\n",
    "                                  minRadius=5, maxRadius=25)\n",
    "        circles = np.uint16(np.round(circles))\n",
    "        for i in circles[0, :]:\n",
    "            cv.circle(roi, (i[0], i[1]), i[2], (0, 0, 255), 2)\n",
    "            print \"circle:\", i[2]\n",
    "    except:\n",
    "        # try:\n",
    "        # 找轮廓\n",
    "        _, contours, _ = cv.findContours(canny, cv.RETR_EXTERNAL, cv.CHAIN_APPROX_SIMPLE)\n",
    "        print len(contours)\n",
    "        sum = contours[0].copy()\n",
    "        for contour in contours:\n",
    "            sum = np.vstack((sum, contour))\n",
    "        cv.drawContours(roi, contours, -1, (0, 0, 255), 2)\n",
    "        rect = cv.minAreaRect(sum)\n",
    "        width, height = rect[1]\n",
    "        box_pixel = width * height\n",
    "        print box_pixel, real_pixel, real_pixel / box_pixel\n",
    "        if real_pixel / box_pixel < 0.7:\n",
    "            print \"三角形\"\n",
    "        else:\n",
    "            print \"正方形\"\n",
    "        box = cv.boxPoints(rect)\n",
    "        box = np.int0(box)\n",
    "        cv.drawContours(roi, [box], 0, (255, 0, 0), 1)\n",
    "        # approx = cv.approxPolyDP(sum, 3, True)\n",
    "        # img_approx = cv.polylines(roi.copy(), [approx], True, (0, 255, 0), 2)\n",
    "        # ps.CommonFunction.show_img_jupyter(img_approx)\n",
    "        # # 找直线\n",
    "        # lines = cv.HoughLinesP(image=canny, rho=1, theta=np.pi / 180, threshold=10,\n",
    "        #                        minLineLength=15, maxLineGap=20)\n",
    "        # lineNum = 0\n",
    "        # for line in lines:\n",
    "        #     lineNum += 1\n",
    "        #     for x1, y1, x2, y2 in line:\n",
    "        #         cv.line(roi, (x1, y1), (x2, y2), (0, 255, 0), 2)\n",
    "        # print lineNum\n",
    "    # except:\n",
    "    #     pass\n",
    "    ps.CommonFunction.show_img_jupyter(roi)\n",
    "    time.sleep(0.1)"
   ],
   "metadata": {
    "collapsed": false,
    "pycharm": {
     "name": "#%%\n"
    }
   }
  }
 ],
 "metadata": {
  "kernelspec": {
   "display_name": "Python 2",
   "language": "python",
   "name": "python2"
  },
  "language_info": {
   "codemirror_mode": {
    "name": "ipython",
    "version": 2
   },
   "file_extension": ".py",
   "mimetype": "text/x-python",
   "name": "python",
   "nbconvert_exporter": "python",
   "pygments_lexer": "ipython2",
   "version": "2.7.6"
  },
  "pycharm": {
   "stem_cell": {
    "cell_type": "raw",
    "source": [
     "# coding=utf-8"
    ],
    "metadata": {
     "collapsed": false
    }
   }
  }
 },
 "nbformat": 4,
 "nbformat_minor": 0
}