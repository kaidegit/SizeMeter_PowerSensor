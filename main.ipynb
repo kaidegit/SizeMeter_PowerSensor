{
 "cells": [
  {
   "cell_type": "code",
   "execution_count": 53,
   "outputs": [],
   "source": [
    "import PowerSensor as ps\n",
    "import numpy as np\n",
    "import cv2 as cv\n",
    "import time\n",
    "from IPython.display import clear_output"
   ],
   "metadata": {
    "collapsed": false,
    "pycharm": {
     "name": "#%%\n"
    }
   }
  },
  {
   "cell_type": "code",
   "execution_count": 54,
   "outputs": [],
   "source": [
    "test_fps = True\n",
    "\n",
    "send = []\n",
    "magicword_start = ord('(')\n",
    "magicword_end = ord(')')"
   ],
   "metadata": {
    "collapsed": false,
    "pycharm": {
     "name": "#%%\n"
    }
   }
  },
  {
   "cell_type": "code",
   "execution_count": 55,
   "outputs": [],
   "source": [
    "# 0表示蓝，1表示绿，2表示红\n",
    "color = 0\n",
    "# 0表示圆形，1表示正方形，2表示三角形\n",
    "shape = 0"
   ],
   "metadata": {
    "collapsed": false,
    "pycharm": {
     "name": "#%%\n"
    }
   }
  },
  {
   "cell_type": "code",
   "execution_count": 56,
   "outputs": [],
   "source": [
    "cam = ps.ImageSensor()\n",
    "ser = ps.UsartPort()\n",
    "ser.set_baudrate(115200)\n",
    "config = ps.SensorConfig()\n",
    "config.set_wb_mode(ps.SensorPara.AWB_Fix)"
   ],
   "metadata": {
    "collapsed": false,
    "pycharm": {
     "name": "#%%\n"
    }
   }
  },
  {
   "cell_type": "code",
   "execution_count": null,
   "outputs": [
    {
     "name": "stdout",
     "output_type": "stream",
     "text": [
      "三角形\n",
      "0 0 10\n",
      "红色\n"
     ]
    },
    {
     "data": {
      "image/png": "[encoded data removed]",
      "text/plain": "<IPython.core.display.Image object>"
     },
     "metadata": {},
     "output_type": "display_data"
    },
    {
     "name": "stdout",
     "output_type": "stream",
     "text": [
      "[40, 2, 44, 2, 44, 3, 12, 41]\n",
      "fps: 0.361610164216\n"
     ]
    }
   ],
   "source": [
    "while True:\n",
    "    if test_fps:\n",
    "        time0 = time.time()\n",
    "    cir_time, rect_time, tri_time = 0, 0, 0\n",
    "    blue_time, green_time, red_time = 0, 0, 0\n",
    "    real_pixel_list = [0]\n",
    "    shape, color = -1, -1\n",
    "    for k in range(10):\n",
    "        frame = cam.read_img_ori()\n",
    "        # ps.CommonFunction.show_img_jupyter(frame)\n",
    "        roi = frame[170:230, 350:440].copy()\n",
    "        mask = np.zeros(roi.shape, roi.dtype)\n",
    "\n",
    "        # 给明显的蓝绿红在mask上着色\n",
    "        blue_pixel = 0\n",
    "        green_pixel = 0\n",
    "        red_pixel = 0\n",
    "        color = -1\n",
    "        for i in range(roi.shape[0]):\n",
    "            for j in range(roi.shape[1]):\n",
    "                if (roi.item(i, j, 0) - roi.item(i, j, 1) > 50) and (roi.item(i, j, 0) - roi.item(i, j, 2) > 50):\n",
    "                    blue_pixel += 1\n",
    "                    mask[i, j] = [0, 255, 255]\n",
    "                elif (roi.item(i, j, 1) - roi.item(i, j, 0) > 25) and (roi.item(i, j, 1) - roi.item(i, j, 2) > 25):\n",
    "                    green_pixel += 1\n",
    "                    mask[i, j] = [255, 0, 255]\n",
    "                elif (roi.item(i, j, 2) - roi.item(i, j, 1) > 25) and (roi.item(i, j, 2) - roi.item(i, j, 0) > 25):\n",
    "                    red_pixel += 1\n",
    "                    mask[i, j] = [255, 255, 0]\n",
    "        ps.CommonFunction.show_img_jupyter(mask)\n",
    "        print blue_pixel, green_pixel, red_pixel\n",
    "        # 判断图像的颜色\n",
    "        if (blue_pixel > 100) or (green_pixel > 100) or (red_pixel > 100):\n",
    "            if (blue_pixel > green_pixel) and (blue_pixel > red_pixel):\n",
    "                color = 0\n",
    "                real_pixel = blue_pixel\n",
    "                blue_time += 1\n",
    "                real_pixel_list.append(blue_pixel)\n",
    "            elif (green_pixel > blue_pixel) and (green_pixel > red_pixel):\n",
    "                color = 1\n",
    "                real_pixel = green_pixel\n",
    "                green_time += 1\n",
    "                real_pixel_list.append(green_pixel)\n",
    "            elif (red_pixel > blue_pixel) and (red_pixel > green_pixel):\n",
    "                color = 2\n",
    "                real_pixel = red_pixel\n",
    "                red_time += 1\n",
    "                real_pixel_list.append(red_pixel)\n",
    "            else:\n",
    "                real_pixel = -1\n",
    "        else:\n",
    "            real_pixel = -1\n",
    "\n",
    "        # 根据判断出的颜色去除mask中的其他颜色\n",
    "        if color != -1:\n",
    "            for i in range(mask.shape[0]):\n",
    "                for j in range(mask.shape[1]):\n",
    "                    if mask.item(i, j, color) != 0:\n",
    "                        mask[i, j] = [0, 0, 0]\n",
    "        ps.CommonFunction.show_img_jupyter(mask)\n",
    "        # 图像处理\n",
    "        # 腐蚀膨胀\n",
    "        kernel = cv.getStructuringElement(cv.MORPH_RECT, (2, 2))\n",
    "        dilate = cv.dilate(mask, kernel)\n",
    "        erode = cv.erode(dilate, kernel)\n",
    "        ps.CommonFunction.show_img_jupyter(erode)\n",
    "        # 边缘检测\n",
    "        canny = cv.Canny(mask, 100, 100 * 3)\n",
    "        # ps.CommonFunction.show_img_jupyter(canny)\n",
    "\n",
    "        # 判断形状\n",
    "        try:\n",
    "            # 找圆\n",
    "            circles = cv.HoughCircles(image=canny, method=cv.HOUGH_GRADIENT,\n",
    "                                      dp=1, minDist=200, param1=100, param2=20,\n",
    "                                      minRadius=8, maxRadius=25)\n",
    "            circles = np.uint16(np.round(circles))\n",
    "            for i in circles[0, :]:\n",
    "                cv.circle(roi, (i[0], i[1]), i[2], (0, 0, 255), 2)\n",
    "                real_pixel = np.pi * i[2] * i[2]\n",
    "            cir_time += 1\n",
    "        except:\n",
    "            try:\n",
    "                # 找轮廓\n",
    "                _, contours, _ = cv.findContours(canny, cv.RETR_EXTERNAL, cv.CHAIN_APPROX_SIMPLE)\n",
    "                sum = contours[0].copy()\n",
    "                for contour in contours:\n",
    "                    sum = np.vstack((sum, contour))\n",
    "                cv.drawContours(roi, contours, -1, (0, 0, 255), 2)\n",
    "                ps.CommonFunction.show_img_jupyter(roi)\n",
    "                # 找外接矩形，比较面积判断是正方形还是三角形\n",
    "                rect = cv.minAreaRect(sum)\n",
    "                width, height = rect[1]\n",
    "                box_pixel = width * height\n",
    "                # print box_pixel, real_pixel, real_pixel / box_pixel\n",
    "                if real_pixel / box_pixel < 0.7:\n",
    "                    tri_time += 1\n",
    "                else:\n",
    "                    rect_time += 1\n",
    "                box = cv.boxPoints(rect)\n",
    "                box = np.int0(box)\n",
    "                cv.drawContours(roi, [box], 0, (255, 0, 0), 1)\n",
    "                ps.CommonFunction.show_img_jupyter(roi)\n",
    "            except:\n",
    "                pass\n",
    "    clear_output(wait=True)\n",
    "    if (cir_time > tri_time) and (cir_time > rect_time) and (cir_time > 5):\n",
    "        print \"圆形\"\n",
    "        shape = 0\n",
    "    elif (rect_time > cir_time) and (rect_time > tri_time) and (rect_time > 5):\n",
    "        print \"正方形\"\n",
    "        shape = 1\n",
    "    elif (tri_time > rect_time) and (tri_time > cir_time) and (tri_time > 5):\n",
    "        print \"三角形\"\n",
    "        shape = 2\n",
    "    print cir_time, rect_time, tri_time\n",
    "\n",
    "    if (blue_time > green_time) and (blue_time > red_time):\n",
    "        print \"蓝色\"\n",
    "        color = 0\n",
    "    elif (green_time > blue_time) and (green_time > red_time):\n",
    "        print \"绿色\"\n",
    "        color = 1\n",
    "    elif (red_time > green_time) and (red_time > blue_time):\n",
    "        print \"红色\"\n",
    "        color = 2\n",
    "    else:\n",
    "        color = -1\n",
    "\n",
    "    real_pixel = int(np.average(real_pixel_list))\n",
    "\n",
    "    ps.CommonFunction.show_img_jupyter(roi)\n",
    "    send = [magicword_start, color, ord(','), shape, ord(','), real_pixel // 256, real_pixel % 256, magicword_end]\n",
    "    ser.u_send_bytes(np.array(send))\n",
    "    print send\n",
    "\n",
    "    if test_fps:\n",
    "        time1 = time.time()\n",
    "        fps = 1 / (time1 - time0)\n",
    "        print \"fps:\", fps\n",
    "    time.sleep(1)"
   ],
   "metadata": {
    "collapsed": false,
    "pycharm": {
     "name": "#%%\n",
     "is_executing": true
    }
   }
  }
 ],
 "metadata": {
  "kernelspec": {
   "display_name": "Python 2",
   "language": "python",
   "name": "python2"
  },
  "language_info": {
   "codemirror_mode": {
    "name": "ipython",
    "version": 2
   },
   "file_extension": ".py",
   "mimetype": "text/x-python",
   "name": "python",
   "nbconvert_exporter": "python",
   "pygments_lexer": "ipython2",
   "version": "2.7.6"
  },
  "pycharm": {
   "stem_cell": {
    "cell_type": "raw",
    "source": [
     "# coding=utf-8"
    ],
    "metadata": {
     "collapsed": false
    }
   }
  }
 },
 "nbformat": 4,
 "nbformat_minor": 0
}