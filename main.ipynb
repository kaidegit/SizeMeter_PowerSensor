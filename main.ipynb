{
 "cells": [
  {
   "cell_type": "code",
   "execution_count": 64,
   "outputs": [],
   "source": [
    "import PowerSensor as ps\n",
    "import numpy as np\n",
    "import cv2 as cv\n",
    "import time\n",
    "from IPython.display import clear_output"
   ],
   "metadata": {
    "collapsed": false,
    "pycharm": {
     "name": "#%%\n"
    }
   }
  },
  {
   "cell_type": "code",
   "execution_count": 65,
   "outputs": [],
   "source": [
    "debug_flag = True\n",
    "\n",
    "send = []\n",
    "magicword_start = ord('(')\n",
    "magicword_end = ord(')')"
   ],
   "metadata": {
    "collapsed": false,
    "pycharm": {
     "name": "#%%\n"
    }
   }
  },
  {
   "cell_type": "code",
   "execution_count": 66,
   "outputs": [],
   "source": [
    "# 0表示蓝，1表示绿，2表示红\n",
    "color = 0\n",
    "# 0表示圆形，1表示正方形，2表示三角形\n",
    "shape = 0"
   ],
   "metadata": {
    "collapsed": false,
    "pycharm": {
     "name": "#%%\n"
    }
   }
  },
  {
   "cell_type": "code",
   "execution_count": 77,
   "outputs": [],
   "source": [
    "cam = ps.ImageSensor()\n",
    "ser = ps.UsartPort()\n",
    "ser.set_baudrate(115200)"
   ],
   "metadata": {
    "collapsed": false,
    "pycharm": {
     "name": "#%%\n"
    }
   }
  },
  {
   "cell_type": "code",
   "execution_count": 82,
   "outputs": [
    {
     "name": "stdout",
     "output_type": "stream",
     "text": [
      "red\n"
     ]
    },
    {
     "ename": "KeyboardInterrupt",
     "evalue": "",
     "output_type": "error",
     "traceback": [
      "\u001B[0;31m\u001B[0m",
      "\u001B[0;31mKeyboardInterrupt\u001B[0mTraceback (most recent call last)",
      "\u001B[0;32m<ipython-input-82-a944ef1ef6fb>\u001B[0m in \u001B[0;36m<module>\u001B[0;34m()\u001B[0m\n\u001B[1;32m     93\u001B[0m             \u001B[0mreal_pixel\u001B[0m \u001B[0;34m=\u001B[0m \u001B[0;34m-\u001B[0m\u001B[0;36m1\u001B[0m\u001B[0;34m\u001B[0m\u001B[0m\n\u001B[1;32m     94\u001B[0m             \u001B[0;32mprint\u001B[0m \u001B[0;34m'unknown color'\u001B[0m\u001B[0;34m\u001B[0m\u001B[0m\n\u001B[0;32m---> 95\u001B[0;31m         \u001B[0mps\u001B[0m\u001B[0;34m.\u001B[0m\u001B[0mCommonFunction\u001B[0m\u001B[0;34m.\u001B[0m\u001B[0mshow_img_jupyter\u001B[0m\u001B[0;34m(\u001B[0m\u001B[0mmask\u001B[0m\u001B[0;34m)\u001B[0m\u001B[0;34m\u001B[0m\u001B[0m\n\u001B[0m\u001B[1;32m     96\u001B[0m         \u001B[0mps\u001B[0m\u001B[0;34m.\u001B[0m\u001B[0mCommonFunction\u001B[0m\u001B[0;34m.\u001B[0m\u001B[0mshow_img_jupyter\u001B[0m\u001B[0;34m(\u001B[0m\u001B[0mroi\u001B[0m\u001B[0;34m)\u001B[0m\u001B[0;34m\u001B[0m\u001B[0m\n\u001B[1;32m     97\u001B[0m \u001B[0;34m\u001B[0m\u001B[0m\n",
      "\u001B[0;32m/usr/lib/python2.7/dist-packages/PowerSensor.pyc\u001B[0m in \u001B[0;36mshow_img_jupyter\u001B[0;34m(cls, img_mat)\u001B[0m\n",
      "\u001B[0;32m/usr/lib/python2.7/dist-packages/IPython/core/display.pyc\u001B[0m in \u001B[0;36mdisplay\u001B[0;34m(*objs, **kwargs)\u001B[0m\n\u001B[1;32m    169\u001B[0m                 \u001B[0;31m# kwarg-specified metadata gets precedence\u001B[0m\u001B[0;34m\u001B[0m\u001B[0;34m\u001B[0m\u001B[0m\n\u001B[1;32m    170\u001B[0m                 \u001B[0m_merge\u001B[0m\u001B[0;34m(\u001B[0m\u001B[0mmd_dict\u001B[0m\u001B[0;34m,\u001B[0m \u001B[0mmetadata\u001B[0m\u001B[0;34m)\u001B[0m\u001B[0;34m\u001B[0m\u001B[0m\n\u001B[0;32m--> 171\u001B[0;31m             \u001B[0mpublish_display_data\u001B[0m\u001B[0;34m(\u001B[0m\u001B[0mdata\u001B[0m\u001B[0;34m=\u001B[0m\u001B[0mformat_dict\u001B[0m\u001B[0;34m,\u001B[0m \u001B[0mmetadata\u001B[0m\u001B[0;34m=\u001B[0m\u001B[0mmd_dict\u001B[0m\u001B[0;34m)\u001B[0m\u001B[0;34m\u001B[0m\u001B[0m\n\u001B[0m\u001B[1;32m    172\u001B[0m \u001B[0;34m\u001B[0m\u001B[0m\n\u001B[1;32m    173\u001B[0m \u001B[0;34m\u001B[0m\u001B[0m\n",
      "\u001B[0;32m/usr/lib/python2.7/dist-packages/IPython/core/display.pyc\u001B[0m in \u001B[0;36mpublish_display_data\u001B[0;34m(data, metadata, source)\u001B[0m\n\u001B[1;32m    119\u001B[0m     InteractiveShell.instance().display_pub.publish(\n\u001B[1;32m    120\u001B[0m         \u001B[0mdata\u001B[0m\u001B[0;34m=\u001B[0m\u001B[0mdata\u001B[0m\u001B[0;34m,\u001B[0m\u001B[0;34m\u001B[0m\u001B[0m\n\u001B[0;32m--> 121\u001B[0;31m         \u001B[0mmetadata\u001B[0m\u001B[0;34m=\u001B[0m\u001B[0mmetadata\u001B[0m\u001B[0;34m,\u001B[0m\u001B[0;34m\u001B[0m\u001B[0m\n\u001B[0m\u001B[1;32m    122\u001B[0m     )\n\u001B[1;32m    123\u001B[0m \u001B[0;34m\u001B[0m\u001B[0m\n",
      "\u001B[0;32m/usr/local/lib/python2.7/dist-packages/ipykernel/zmqshell.pyc\u001B[0m in \u001B[0;36mpublish\u001B[0;34m(self, data, metadata, source, transient, update)\u001B[0m\n\u001B[1;32m    110\u001B[0m             \u001B[0mIf\u001B[0m \u001B[0mTrue\u001B[0m\u001B[0;34m,\u001B[0m \u001B[0msend\u001B[0m \u001B[0man\u001B[0m \u001B[0mupdate_display_data\u001B[0m \u001B[0mmessage\u001B[0m \u001B[0minstead\u001B[0m \u001B[0mof\u001B[0m \u001B[0mdisplay_data\u001B[0m\u001B[0;34m.\u001B[0m\u001B[0;34m\u001B[0m\u001B[0m\n\u001B[1;32m    111\u001B[0m         \"\"\"\n\u001B[0;32m--> 112\u001B[0;31m         \u001B[0mself\u001B[0m\u001B[0;34m.\u001B[0m\u001B[0m_flush_streams\u001B[0m\u001B[0;34m(\u001B[0m\u001B[0;34m)\u001B[0m\u001B[0;34m\u001B[0m\u001B[0m\n\u001B[0m\u001B[1;32m    113\u001B[0m         \u001B[0;32mif\u001B[0m \u001B[0mmetadata\u001B[0m \u001B[0;32mis\u001B[0m \u001B[0mNone\u001B[0m\u001B[0;34m:\u001B[0m\u001B[0;34m\u001B[0m\u001B[0m\n\u001B[1;32m    114\u001B[0m             \u001B[0mmetadata\u001B[0m \u001B[0;34m=\u001B[0m \u001B[0;34m{\u001B[0m\u001B[0;34m}\u001B[0m\u001B[0;34m\u001B[0m\u001B[0m\n",
      "\u001B[0;32m/usr/local/lib/python2.7/dist-packages/ipykernel/zmqshell.pyc\u001B[0m in \u001B[0;36m_flush_streams\u001B[0;34m(self)\u001B[0m\n\u001B[1;32m     77\u001B[0m     \u001B[0;32mdef\u001B[0m \u001B[0m_flush_streams\u001B[0m\u001B[0;34m(\u001B[0m\u001B[0mself\u001B[0m\u001B[0;34m)\u001B[0m\u001B[0;34m:\u001B[0m\u001B[0;34m\u001B[0m\u001B[0m\n\u001B[1;32m     78\u001B[0m         \u001B[0;34m\"\"\"flush IO Streams prior to display\"\"\"\u001B[0m\u001B[0;34m\u001B[0m\u001B[0m\n\u001B[0;32m---> 79\u001B[0;31m         \u001B[0msys\u001B[0m\u001B[0;34m.\u001B[0m\u001B[0mstdout\u001B[0m\u001B[0;34m.\u001B[0m\u001B[0mflush\u001B[0m\u001B[0;34m(\u001B[0m\u001B[0;34m)\u001B[0m\u001B[0;34m\u001B[0m\u001B[0m\n\u001B[0m\u001B[1;32m     80\u001B[0m         \u001B[0msys\u001B[0m\u001B[0;34m.\u001B[0m\u001B[0mstderr\u001B[0m\u001B[0;34m.\u001B[0m\u001B[0mflush\u001B[0m\u001B[0;34m(\u001B[0m\u001B[0;34m)\u001B[0m\u001B[0;34m\u001B[0m\u001B[0m\n\u001B[1;32m     81\u001B[0m \u001B[0;34m\u001B[0m\u001B[0m\n",
      "\u001B[0;32m/usr/local/lib/python2.7/dist-packages/ipykernel/iostream.pyc\u001B[0m in \u001B[0;36mflush\u001B[0;34m(self)\u001B[0m\n\u001B[1;32m    339\u001B[0m         \u001B[0;32mif\u001B[0m \u001B[0mself\u001B[0m\u001B[0;34m.\u001B[0m\u001B[0mpub_thread\u001B[0m\u001B[0;34m.\u001B[0m\u001B[0mthread\u001B[0m\u001B[0;34m.\u001B[0m\u001B[0mis_alive\u001B[0m\u001B[0;34m(\u001B[0m\u001B[0;34m)\u001B[0m\u001B[0;34m:\u001B[0m\u001B[0;34m\u001B[0m\u001B[0m\n\u001B[1;32m    340\u001B[0m             \u001B[0;31m# request flush on the background thread\u001B[0m\u001B[0;34m\u001B[0m\u001B[0;34m\u001B[0m\u001B[0m\n\u001B[0;32m--> 341\u001B[0;31m             \u001B[0mself\u001B[0m\u001B[0;34m.\u001B[0m\u001B[0mpub_thread\u001B[0m\u001B[0;34m.\u001B[0m\u001B[0mschedule\u001B[0m\u001B[0;34m(\u001B[0m\u001B[0mself\u001B[0m\u001B[0;34m.\u001B[0m\u001B[0m_flush\u001B[0m\u001B[0;34m)\u001B[0m\u001B[0;34m\u001B[0m\u001B[0m\n\u001B[0m\u001B[1;32m    342\u001B[0m             \u001B[0;31m# wait for flush to actually get through, if we can.\u001B[0m\u001B[0;34m\u001B[0m\u001B[0;34m\u001B[0m\u001B[0m\n\u001B[1;32m    343\u001B[0m             \u001B[0;31m# waiting across threads during import can cause deadlocks\u001B[0m\u001B[0;34m\u001B[0m\u001B[0;34m\u001B[0m\u001B[0m\n",
      "\u001B[0;32m/usr/local/lib/python2.7/dist-packages/ipykernel/iostream.pyc\u001B[0m in \u001B[0;36mschedule\u001B[0;34m(self, f)\u001B[0m\n\u001B[1;32m    201\u001B[0m             \u001B[0mself\u001B[0m\u001B[0;34m.\u001B[0m\u001B[0m_events\u001B[0m\u001B[0;34m.\u001B[0m\u001B[0mappend\u001B[0m\u001B[0;34m(\u001B[0m\u001B[0mf\u001B[0m\u001B[0;34m)\u001B[0m\u001B[0;34m\u001B[0m\u001B[0m\n\u001B[1;32m    202\u001B[0m             \u001B[0;31m# wake event thread (message content is ignored)\u001B[0m\u001B[0;34m\u001B[0m\u001B[0;34m\u001B[0m\u001B[0m\n\u001B[0;32m--> 203\u001B[0;31m             \u001B[0mself\u001B[0m\u001B[0;34m.\u001B[0m\u001B[0m_event_pipe\u001B[0m\u001B[0;34m.\u001B[0m\u001B[0msend\u001B[0m\u001B[0;34m(\u001B[0m\u001B[0;34mb''\u001B[0m\u001B[0;34m)\u001B[0m\u001B[0;34m\u001B[0m\u001B[0m\n\u001B[0m\u001B[1;32m    204\u001B[0m         \u001B[0;32melse\u001B[0m\u001B[0;34m:\u001B[0m\u001B[0;34m\u001B[0m\u001B[0m\n\u001B[1;32m    205\u001B[0m             \u001B[0mf\u001B[0m\u001B[0;34m(\u001B[0m\u001B[0;34m)\u001B[0m\u001B[0;34m\u001B[0m\u001B[0m\n",
      "\u001B[0;32m/usr/local/lib/python2.7/dist-packages/zmq/sugar/socket.pyc\u001B[0m in \u001B[0;36msend\u001B[0;34m(self, data, flags, copy, track, routing_id, group)\u001B[0m\n\u001B[1;32m    393\u001B[0m                                  copy_threshold=self.copy_threshold)\n\u001B[1;32m    394\u001B[0m             \u001B[0mdata\u001B[0m\u001B[0;34m.\u001B[0m\u001B[0mgroup\u001B[0m \u001B[0;34m=\u001B[0m \u001B[0mgroup\u001B[0m\u001B[0;34m\u001B[0m\u001B[0m\n\u001B[0;32m--> 395\u001B[0;31m         \u001B[0;32mreturn\u001B[0m \u001B[0msuper\u001B[0m\u001B[0;34m(\u001B[0m\u001B[0mSocket\u001B[0m\u001B[0;34m,\u001B[0m \u001B[0mself\u001B[0m\u001B[0;34m)\u001B[0m\u001B[0;34m.\u001B[0m\u001B[0msend\u001B[0m\u001B[0;34m(\u001B[0m\u001B[0mdata\u001B[0m\u001B[0;34m,\u001B[0m \u001B[0mflags\u001B[0m\u001B[0;34m=\u001B[0m\u001B[0mflags\u001B[0m\u001B[0;34m,\u001B[0m \u001B[0mcopy\u001B[0m\u001B[0;34m=\u001B[0m\u001B[0mcopy\u001B[0m\u001B[0;34m,\u001B[0m \u001B[0mtrack\u001B[0m\u001B[0;34m=\u001B[0m\u001B[0mtrack\u001B[0m\u001B[0;34m)\u001B[0m\u001B[0;34m\u001B[0m\u001B[0m\n\u001B[0m\u001B[1;32m    396\u001B[0m \u001B[0;34m\u001B[0m\u001B[0m\n\u001B[1;32m    397\u001B[0m     \u001B[0;32mdef\u001B[0m \u001B[0msend_multipart\u001B[0m\u001B[0;34m(\u001B[0m\u001B[0mself\u001B[0m\u001B[0;34m,\u001B[0m \u001B[0mmsg_parts\u001B[0m\u001B[0;34m,\u001B[0m \u001B[0mflags\u001B[0m\u001B[0;34m=\u001B[0m\u001B[0;36m0\u001B[0m\u001B[0;34m,\u001B[0m \u001B[0mcopy\u001B[0m\u001B[0;34m=\u001B[0m\u001B[0mTrue\u001B[0m\u001B[0;34m,\u001B[0m \u001B[0mtrack\u001B[0m\u001B[0;34m=\u001B[0m\u001B[0mFalse\u001B[0m\u001B[0;34m,\u001B[0m \u001B[0;34m**\u001B[0m\u001B[0mkwargs\u001B[0m\u001B[0;34m)\u001B[0m\u001B[0;34m:\u001B[0m\u001B[0;34m\u001B[0m\u001B[0m\n",
      "\u001B[0;32mzmq/backend/cython/socket.pyx\u001B[0m in \u001B[0;36mzmq.backend.cython.socket.Socket.send\u001B[0;34m()\u001B[0m\n",
      "\u001B[0;32mzmq/backend/cython/socket.pyx\u001B[0m in \u001B[0;36mzmq.backend.cython.socket.Socket.send\u001B[0;34m()\u001B[0m\n",
      "\u001B[0;32mzmq/backend/cython/socket.pyx\u001B[0m in \u001B[0;36mzmq.backend.cython.socket._send_copy\u001B[0;34m()\u001B[0m\n",
      "\u001B[0;32m/usr/local/lib/python2.7/dist-packages/zmq/backend/cython/checkrc.pxd\u001B[0m in \u001B[0;36mzmq.backend.cython.checkrc._check_rc\u001B[0;34m()\u001B[0m\n\u001B[1;32m     10\u001B[0m     \"\"\"\n\u001B[1;32m     11\u001B[0m     \u001B[0mcdef\u001B[0m \u001B[0mint\u001B[0m \u001B[0merrno\u001B[0m \u001B[0;34m=\u001B[0m \u001B[0mzmq_errno\u001B[0m\u001B[0;34m(\u001B[0m\u001B[0;34m)\u001B[0m\u001B[0;34m\u001B[0m\u001B[0m\n\u001B[0;32m---> 12\u001B[0;31m     \u001B[0mPyErr_CheckSignals\u001B[0m\u001B[0;34m(\u001B[0m\u001B[0;34m)\u001B[0m\u001B[0;34m\u001B[0m\u001B[0m\n\u001B[0m\u001B[1;32m     13\u001B[0m     \u001B[0;32mif\u001B[0m \u001B[0mrc\u001B[0m \u001B[0;34m==\u001B[0m \u001B[0;34m-\u001B[0m\u001B[0;36m1\u001B[0m\u001B[0;34m:\u001B[0m \u001B[0;31m# if rc < -1, it's a bug in libzmq. Should we warn?\u001B[0m\u001B[0;34m\u001B[0m\u001B[0m\n\u001B[1;32m     14\u001B[0m         \u001B[0;32mif\u001B[0m \u001B[0merrno\u001B[0m \u001B[0;34m==\u001B[0m \u001B[0mEINTR\u001B[0m\u001B[0;34m:\u001B[0m\u001B[0;34m\u001B[0m\u001B[0m\n",
      "\u001B[0;31mKeyboardInterrupt\u001B[0m: "
     ]
    }
   ],
   "source": [
    "while True:\n",
    "    if debug_flag:\n",
    "        time0 = time.time()\n",
    "    frame = cam.read_img_ori()\n",
    "    roi = frame[170:230, 350:440].copy()\n",
    "    mask = np.zeros(roi.shape, roi.dtype)\n",
    "    # 给明显的蓝绿红在mask上着色\n",
    "    blue_pixel = 0\n",
    "    green_pixel = 0\n",
    "    red_pixel = 0\n",
    "    color = -1\n",
    "    for i in range(roi.shape[0]):\n",
    "        for j in range(roi.shape[1]):\n",
    "            # print(frame.item(i, j, 0), frame.item(i, j, 1), frame.item(i, j, 2))\n",
    "            if (roi.item(i, j, 0) - roi.item(i, j, 1) > 50) and (roi.item(i, j, 0) - roi.item(i, j, 2) > 50):\n",
    "                color = 0\n",
    "                blue_pixel += 1\n",
    "                # print('blue')\n",
    "                # print(frame.item(i, j, 0), frame.item(i, j, 1), frame.item(i, j, 2))\n",
    "                mask[i, j] = [0, 255, 255]\n",
    "            elif (roi.item(i, j, 1) - roi.item(i, j, 0) > 30) and (roi.item(i, j, 1) - roi.item(i, j, 2) > 30):\n",
    "                color = 1\n",
    "                green_pixel += 1\n",
    "                # print('green')\n",
    "                # print(roi.item(i, j, 0), roi.item(i, j, 1), roi.item(i, j, 2))\n",
    "                mask[i, j] = [255, 0, 255]\n",
    "            elif (roi.item(i, j, 2) - roi.item(i, j, 1) > 30) and (roi.item(i, j, 2) - roi.item(i, j, 0) > 30):\n",
    "                color = 2\n",
    "                red_pixel += 1\n",
    "                # print('red')\n",
    "                # print(frame.item(i, j, 0), frame.item(i, j, 1), frame.item(i, j, 2))\n",
    "                mask[i, j] = [255, 255, 0]\n",
    "\n",
    "    # 判断图像的颜色\n",
    "    if blue_pixel > 100 or green_pixel > 100 or red_pixel > 100:\n",
    "        if blue_pixel > green_pixel and blue_pixel > red_pixel:\n",
    "            color = 0\n",
    "            real_pixel = blue_pixel\n",
    "        elif green_pixel > blue_pixel and green_pixel > red_pixel:\n",
    "            color = 1\n",
    "            real_pixel = green_pixel\n",
    "        elif red_pixel > blue_pixel and red_pixel > green_pixel:\n",
    "            color = 2\n",
    "            real_pixel = red_pixel\n",
    "        else:\n",
    "            real_pixel = -1\n",
    "    else:\n",
    "        real_pixel = -1\n",
    "    # 根据判断出的颜色去除mask中的其他颜色\n",
    "    if color != -1:\n",
    "        for i in range(mask.shape[0]):\n",
    "            for j in range(mask.shape[1]):\n",
    "                if mask.item(i, j, color) != 0:\n",
    "                    mask[i, j] = [0, 0, 0]\n",
    "    if debug_flag:\n",
    "        clear_output(wait=True)\n",
    "        if blue_pixel > 100 or green_pixel > 100 or red_pixel > 100:\n",
    "            if blue_pixel > green_pixel and blue_pixel > red_pixel:\n",
    "                print 'blue'\n",
    "            elif green_pixel > blue_pixel and green_pixel > red_pixel:\n",
    "                print 'green'\n",
    "            elif red_pixel > blue_pixel and red_pixel > green_pixel:\n",
    "                print 'red'\n",
    "            else:\n",
    "                print 'unknown color'\n",
    "        else:\n",
    "            print 'unknown color'\n",
    "        ps.CommonFunction.show_img_jupyter(mask)\n",
    "        ps.CommonFunction.show_img_jupyter(roi)\n",
    "\n",
    "    # 腐蚀膨胀\n",
    "    kernel = cv.getStructuringElement(cv.MORPH_RECT, (4, 4))\n",
    "    dilate = cv.dilate(mask, kernel)\n",
    "    erode = cv.erode(dilate, kernel)\n",
    "    ps.CommonFunction.show_img_jupyter(erode)\n",
    "    # 边缘检测\n",
    "    canny = cv.Canny(mask, 120, 120 * 3)\n",
    "    ps.CommonFunction.show_img_jupyter(canny)\n",
    "    try:\n",
    "        # 找圆\n",
    "        circles = cv.HoughCircles(image=canny, method=cv.HOUGH_GRADIENT,\n",
    "                                  dp=1, minDist=200, param1=50, param2=30,\n",
    "                                  minRadius=5, maxRadius=25)\n",
    "        circles = np.uint16(np.round(circles))\n",
    "        for i in circles[0, :]:\n",
    "            cv.circle(roi, (i[0], i[1]), i[2], (0, 0, 255), 2)\n",
    "            print \"circle:\", i[2]\n",
    "        shape = 0\n",
    "    except:\n",
    "        try:\n",
    "            # 找轮廓\n",
    "            _, contours, _ = cv.findContours(canny, cv.RETR_EXTERNAL, cv.CHAIN_APPROX_SIMPLE)\n",
    "            print len(contours)\n",
    "            sum = contours[0].copy()\n",
    "            for contour in contours:\n",
    "                sum = np.vstack((sum, contour))\n",
    "            cv.drawContours(roi, contours, -1, (0, 0, 255), 2)\n",
    "            # 找外接矩形，比较面积判断是正方形还是三角形\n",
    "            rect = cv.minAreaRect(sum)\n",
    "            width, height = rect[1]\n",
    "            box_pixel = width * height\n",
    "            print box_pixel, real_pixel, real_pixel / box_pixel\n",
    "            if real_pixel / box_pixel < 0.7:\n",
    "                print \"三角形\"\n",
    "                shape = 2\n",
    "            else:\n",
    "                print \"正方形\"\n",
    "                shape = 1\n",
    "            box = cv.boxPoints(rect)\n",
    "            box = np.int0(box)\n",
    "            cv.drawContours(roi, [box], 0, (255, 0, 0), 1)\n",
    "        except:\n",
    "            pass\n",
    "    ps.CommonFunction.show_img_jupyter(roi)\n",
    "    send = [magicword_start, color, ord(','), shape, ord(','), real_pixel // 256, real_pixel % 256, magicword_end]\n",
    "    ser.u_send_bytes(np.array(send))\n",
    "    time1 = time.time()\n",
    "    fps = 1 / (time1 - time0)\n",
    "    print fps\n",
    "    time.sleep(0.1)"
   ],
   "metadata": {
    "collapsed": false,
    "pycharm": {
     "name": "#%%\n"
    }
   }
  }
 ],
 "metadata": {
  "kernelspec": {
   "display_name": "Python 2",
   "language": "python",
   "name": "python2"
  },
  "language_info": {
   "codemirror_mode": {
    "name": "ipython",
    "version": 2
   },
   "file_extension": ".py",
   "mimetype": "text/x-python",
   "name": "python",
   "nbconvert_exporter": "python",
   "pygments_lexer": "ipython2",
   "version": "2.7.6"
  },
  "pycharm": {
   "stem_cell": {
    "cell_type": "raw",
    "source": [
     "# coding=utf-8"
    ],
    "metadata": {
     "collapsed": false
    }
   }
  }
 },
 "nbformat": 4,
 "nbformat_minor": 0
}