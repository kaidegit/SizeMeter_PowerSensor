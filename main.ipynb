{
 "cells": [
  {
   "cell_type": "code",
   "execution_count": 1,
   "outputs": [],
   "source": [
    "import PowerSensor as ps\n",
    "import numpy as np\n",
    "import cv2 as cv\n",
    "import time\n",
    "from IPython.display import clear_output"
   ],
   "metadata": {
    "collapsed": false,
    "pycharm": {
     "name": "#%%\n"
    }
   }
  },
  {
   "cell_type": "code",
   "execution_count": 2,
   "outputs": [],
   "source": [
    "debug_flag = True\n",
    "test_fps = True\n",
    "\n",
    "send = []\n",
    "magicword_start = ord('(')\n",
    "magicword_end = ord(')')"
   ],
   "metadata": {
    "collapsed": false,
    "pycharm": {
     "name": "#%%\n"
    }
   }
  },
  {
   "cell_type": "code",
   "execution_count": 3,
   "outputs": [],
   "source": [
    "# 0表示蓝，1表示绿，2表示红\n",
    "color = 0\n",
    "# 0表示圆形，1表示正方形，2表示三角形\n",
    "shape = 0"
   ],
   "metadata": {
    "collapsed": false,
    "pycharm": {
     "name": "#%%\n"
    }
   }
  },
  {
   "cell_type": "code",
   "execution_count": 4,
   "outputs": [],
   "source": [
    "cam = ps.ImageSensor()\n",
    "ser = ps.UsartPort()\n",
    "ser.set_baudrate(115200)"
   ],
   "metadata": {
    "collapsed": false,
    "pycharm": {
     "name": "#%%\n"
    }
   }
  },
  {
   "cell_type": "code",
   "execution_count": 5,
   "outputs": [
    {
     "name": "stdout",
     "output_type": "stream",
     "text": [
      "unknown color\n"
     ]
    },
    {
     "data": {
      "image/png": "[encoded data removed]",
      "text/plain": "<IPython.core.display.Image object>"
     },
     "metadata": {},
     "output_type": "display_data"
    },
    {
     "data": {
      "image/png": "[encoded data removed]",
      "text/plain": "<IPython.core.display.Image object>"
     },
     "metadata": {},
     "output_type": "display_data"
    },
    {
     "data": {
      "image/png": "[encoded data removed]",
      "text/plain": "<IPython.core.display.Image object>"
     },
     "metadata": {},
     "output_type": "display_data"
    },
    {
     "data": {
      "image/png": "[encoded data removed]",
      "text/plain": "<IPython.core.display.Image object>"
     },
     "metadata": {},
     "output_type": "display_data"
    },
    {
     "name": "stdout",
     "output_type": "stream",
     "text": [
      "8\n",
      "3100.8086991 -1 -0.000322496515277\n",
      "三角形\n"
     ]
    },
    {
     "name": "stderr",
     "output_type": "stream",
     "text": [
      "/usr/local/lib/python2.7/dist-packages/numpy/lib/function_base.py:392: RuntimeWarning: Mean of empty slice.\n",
      "  avg = a.mean(axis)\n",
      "/usr/local/lib/python2.7/dist-packages/numpy/core/_methods.py:85: RuntimeWarning: invalid value encountered in double_scalars\n",
      "  ret = ret.dtype.type(ret / rcount)\n",
      "ERROR:root:Internal Python error in the inspect module.\n",
      "Below is the traceback from this internal error.\n",
      "\n",
      "INFO:root:\n",
      "Unfortunately, your original traceback can not be constructed.\n",
      "\n"
     ]
    },
    {
     "name": "stdout",
     "output_type": "stream",
     "text": [
      "Traceback (most recent call last):\n",
      "  File \"/usr/lib/python2.7/dist-packages/IPython/core/ultratb.py\", line 1132, in get_records\n",
      "    return _fixed_getinnerframes(etb, number_of_lines_of_context, tb_offset)\n",
      "  File \"/usr/lib/python2.7/dist-packages/IPython/core/ultratb.py\", line 313, in wrapped\n",
      "    return f(*args, **kwargs)\n",
      "  File \"/usr/lib/python2.7/dist-packages/IPython/core/ultratb.py\", line 358, in _fixed_getinnerframes\n",
      "    records = fix_frame_records_filenames(inspect.getinnerframes(etb, context))\n",
      "  File \"/usr/lib/python2.7/inspect.py\", line 1048, in getinnerframes\n",
      "    framelist.append((tb.tb_frame,) + getframeinfo(tb, context))\n",
      "  File \"/usr/lib/python2.7/inspect.py\", line 1008, in getframeinfo\n",
      "    filename = getsourcefile(frame) or getfile(frame)\n",
      "  File \"/usr/lib/python2.7/inspect.py\", line 453, in getsourcefile\n",
      "    if hasattr(getmodule(object, filename), '__loader__'):\n",
      "  File \"/usr/lib/python2.7/inspect.py\", line 499, in getmodule\n",
      "    os.path.realpath(f)] = module.__name__\n",
      "  File \"/usr/lib/python2.7/posixpath.py\", line 375, in realpath\n",
      "    path, ok = _joinrealpath('', filename, {})\n",
      "  File \"/usr/lib/python2.7/posixpath.py\", line 400, in _joinrealpath\n",
      "    if not islink(newpath):\n",
      "  File \"/usr/lib/python2.7/posixpath.py\", line 135, in islink\n",
      "    st = os.lstat(path)\n",
      "KeyboardInterrupt\n"
     ]
    },
    {
     "ename": "IndexError",
     "evalue": "string index out of range",
     "output_type": "error",
     "traceback": [
      "\u001B[0;31m\u001B[0m",
      "\u001B[0;31mIndexError\u001B[0mTraceback (most recent call last)",
      "\u001B[0;32m/usr/lib/python2.7/dist-packages/IPython/core/interactiveshell.pyc\u001B[0m in \u001B[0;36mrun_code\u001B[0;34m(self, code_obj, result)\u001B[0m\n\u001B[1;32m   2896\u001B[0m             \u001B[0;32mif\u001B[0m \u001B[0mresult\u001B[0m \u001B[0;32mis\u001B[0m \u001B[0;32mnot\u001B[0m \u001B[0mNone\u001B[0m\u001B[0;34m:\u001B[0m\u001B[0;34m\u001B[0m\u001B[0m\n\u001B[1;32m   2897\u001B[0m                 \u001B[0mresult\u001B[0m\u001B[0;34m.\u001B[0m\u001B[0merror_in_exec\u001B[0m \u001B[0;34m=\u001B[0m \u001B[0msys\u001B[0m\u001B[0;34m.\u001B[0m\u001B[0mexc_info\u001B[0m\u001B[0;34m(\u001B[0m\u001B[0;34m)\u001B[0m\u001B[0;34m[\u001B[0m\u001B[0;36m1\u001B[0m\u001B[0;34m]\u001B[0m\u001B[0;34m\u001B[0m\u001B[0m\n\u001B[0;32m-> 2898\u001B[0;31m             \u001B[0mself\u001B[0m\u001B[0;34m.\u001B[0m\u001B[0mshowtraceback\u001B[0m\u001B[0;34m(\u001B[0m\u001B[0;34m)\u001B[0m\u001B[0;34m\u001B[0m\u001B[0m\n\u001B[0m\u001B[1;32m   2899\u001B[0m         \u001B[0;32melse\u001B[0m\u001B[0;34m:\u001B[0m\u001B[0;34m\u001B[0m\u001B[0m\n\u001B[1;32m   2900\u001B[0m             \u001B[0moutflag\u001B[0m \u001B[0;34m=\u001B[0m \u001B[0;36m0\u001B[0m\u001B[0;34m\u001B[0m\u001B[0m\n",
      "\u001B[0;32m/usr/lib/python2.7/dist-packages/IPython/core/interactiveshell.pyc\u001B[0m in \u001B[0;36mshowtraceback\u001B[0;34m(self, exc_tuple, filename, tb_offset, exception_only)\u001B[0m\n\u001B[1;32m   1822\u001B[0m                     \u001B[0;32mexcept\u001B[0m \u001B[0mException\u001B[0m\u001B[0;34m:\u001B[0m\u001B[0;34m\u001B[0m\u001B[0m\n\u001B[1;32m   1823\u001B[0m                         stb = self.InteractiveTB.structured_traceback(etype,\n\u001B[0;32m-> 1824\u001B[0;31m                                             value, tb, tb_offset=tb_offset)\n\u001B[0m\u001B[1;32m   1825\u001B[0m \u001B[0;34m\u001B[0m\u001B[0m\n\u001B[1;32m   1826\u001B[0m                     \u001B[0mself\u001B[0m\u001B[0;34m.\u001B[0m\u001B[0m_showtraceback\u001B[0m\u001B[0;34m(\u001B[0m\u001B[0metype\u001B[0m\u001B[0;34m,\u001B[0m \u001B[0mvalue\u001B[0m\u001B[0;34m,\u001B[0m \u001B[0mstb\u001B[0m\u001B[0;34m)\u001B[0m\u001B[0;34m\u001B[0m\u001B[0m\n",
      "\u001B[0;32m/usr/lib/python2.7/dist-packages/IPython/core/ultratb.pyc\u001B[0m in \u001B[0;36mstructured_traceback\u001B[0;34m(self, etype, value, tb, tb_offset, number_of_lines_of_context)\u001B[0m\n\u001B[1;32m   1404\u001B[0m         \u001B[0mself\u001B[0m\u001B[0;34m.\u001B[0m\u001B[0mtb\u001B[0m \u001B[0;34m=\u001B[0m \u001B[0mtb\u001B[0m\u001B[0;34m\u001B[0m\u001B[0m\n\u001B[1;32m   1405\u001B[0m         return FormattedTB.structured_traceback(\n\u001B[0;32m-> 1406\u001B[0;31m             self, etype, value, tb, tb_offset, number_of_lines_of_context)\n\u001B[0m\u001B[1;32m   1407\u001B[0m \u001B[0;34m\u001B[0m\u001B[0m\n\u001B[1;32m   1408\u001B[0m \u001B[0;34m\u001B[0m\u001B[0m\n",
      "\u001B[0;32m/usr/lib/python2.7/dist-packages/IPython/core/ultratb.pyc\u001B[0m in \u001B[0;36mstructured_traceback\u001B[0;34m(self, etype, value, tb, tb_offset, number_of_lines_of_context)\u001B[0m\n\u001B[1;32m   1312\u001B[0m             \u001B[0;31m# Verbose modes need a full traceback\u001B[0m\u001B[0;34m\u001B[0m\u001B[0;34m\u001B[0m\u001B[0m\n\u001B[1;32m   1313\u001B[0m             return VerboseTB.structured_traceback(\n\u001B[0;32m-> 1314\u001B[0;31m                 \u001B[0mself\u001B[0m\u001B[0;34m,\u001B[0m \u001B[0metype\u001B[0m\u001B[0;34m,\u001B[0m \u001B[0mvalue\u001B[0m\u001B[0;34m,\u001B[0m \u001B[0mtb\u001B[0m\u001B[0;34m,\u001B[0m \u001B[0mtb_offset\u001B[0m\u001B[0;34m,\u001B[0m \u001B[0mnumber_of_lines_of_context\u001B[0m\u001B[0;34m\u001B[0m\u001B[0m\n\u001B[0m\u001B[1;32m   1315\u001B[0m             )\n\u001B[1;32m   1316\u001B[0m         \u001B[0;32melse\u001B[0m\u001B[0;34m:\u001B[0m\u001B[0;34m\u001B[0m\u001B[0m\n",
      "\u001B[0;32m/usr/lib/python2.7/dist-packages/IPython/core/ultratb.pyc\u001B[0m in \u001B[0;36mstructured_traceback\u001B[0;34m(self, etype, evalue, etb, tb_offset, number_of_lines_of_context)\u001B[0m\n\u001B[1;32m   1196\u001B[0m                 \u001B[0mstructured_traceback_parts\u001B[0m \u001B[0;34m+=\u001B[0m \u001B[0mformatted_exception\u001B[0m\u001B[0;34m\u001B[0m\u001B[0m\n\u001B[1;32m   1197\u001B[0m         \u001B[0;32melse\u001B[0m\u001B[0;34m:\u001B[0m\u001B[0;34m\u001B[0m\u001B[0m\n\u001B[0;32m-> 1198\u001B[0;31m             \u001B[0mstructured_traceback_parts\u001B[0m \u001B[0;34m+=\u001B[0m \u001B[0mformatted_exception\u001B[0m\u001B[0;34m[\u001B[0m\u001B[0;36m0\u001B[0m\u001B[0;34m]\u001B[0m\u001B[0;34m\u001B[0m\u001B[0m\n\u001B[0m\u001B[1;32m   1199\u001B[0m \u001B[0;34m\u001B[0m\u001B[0m\n\u001B[1;32m   1200\u001B[0m         \u001B[0;32mreturn\u001B[0m \u001B[0mstructured_traceback_parts\u001B[0m\u001B[0;34m\u001B[0m\u001B[0m\n",
      "\u001B[0;31mIndexError\u001B[0m: string index out of range"
     ]
    }
   ],
   "source": [
    "while True:\n",
    "    if test_fps:\n",
    "        time0 = time.time()\n",
    "    cir_time, rect_time, tri_time = 0, 0, 0\n",
    "    blue_time, green_time, red_time = 0, 0, 0\n",
    "    real_pixel_list = []\n",
    "    shape, color = -1, -1\n",
    "    for k in range(10):\n",
    "        frame = cam.read_img_ori()\n",
    "        roi = frame[170:230, 350:440].copy()\n",
    "        mask = np.zeros(roi.shape, roi.dtype)\n",
    "\n",
    "        # 给明显的蓝绿红在mask上着色\n",
    "        blue_pixel = 0\n",
    "        green_pixel = 0\n",
    "        red_pixel = 0\n",
    "        color = -1\n",
    "        for i in range(roi.shape[0]):\n",
    "            for j in range(roi.shape[1]):\n",
    "                if (roi.item(i, j, 0) - roi.item(i, j, 1) > 50) and (roi.item(i, j, 0) - roi.item(i, j, 2) > 50):\n",
    "                    color = 0\n",
    "                    blue_pixel += 1\n",
    "                    mask[i, j] = [0, 255, 255]\n",
    "                elif (roi.item(i, j, 1) - roi.item(i, j, 0) > 30) and (roi.item(i, j, 1) - roi.item(i, j, 2) > 30):\n",
    "                    color = 1\n",
    "                    green_pixel += 1\n",
    "                    mask[i, j] = [255, 0, 255]\n",
    "                elif (roi.item(i, j, 2) - roi.item(i, j, 1) > 30) and (roi.item(i, j, 2) - roi.item(i, j, 0) > 30):\n",
    "                    color = 2\n",
    "                    red_pixel += 1\n",
    "                    mask[i, j] = [255, 255, 0]\n",
    "\n",
    "        # 判断图像的颜色\n",
    "        if blue_pixel > 100 or green_pixel > 100 or red_pixel > 100:\n",
    "            if blue_pixel > green_pixel and blue_pixel > red_pixel:\n",
    "                real_pixel = blue_pixel\n",
    "                blue_time += 1\n",
    "                real_pixel_list.append(blue_pixel)\n",
    "            elif green_pixel > blue_pixel and green_pixel > red_pixel:\n",
    "                real_pixel = green_pixel\n",
    "                green_time += 1\n",
    "                real_pixel_list.append(green_pixel)\n",
    "            elif red_pixel > blue_pixel and red_pixel > green_pixel:\n",
    "                real_pixel = red_pixel\n",
    "                red_time += 1\n",
    "                real_pixel_list.append(red_pixel)\n",
    "            else:\n",
    "                real_pixel = -1\n",
    "        else:\n",
    "            real_pixel = -1\n",
    "\n",
    "        # 根据判断出的颜色去除mask中的其他颜色\n",
    "        if color != -1:\n",
    "            for i in range(mask.shape[0]):\n",
    "                for j in range(mask.shape[1]):\n",
    "                    if mask.item(i, j, color) != 0:\n",
    "                        mask[i, j] = [0, 0, 0]\n",
    "        if debug_flag:\n",
    "            clear_output(wait=True)\n",
    "            if blue_pixel > 100 or green_pixel > 100 or red_pixel > 100:\n",
    "                if blue_pixel > green_pixel and blue_pixel > red_pixel:\n",
    "                    print 'blue'\n",
    "                elif green_pixel > blue_pixel and green_pixel > red_pixel:\n",
    "                    print 'green'\n",
    "                elif red_pixel > blue_pixel and red_pixel > green_pixel:\n",
    "                    print 'red'\n",
    "                else:\n",
    "                    print 'unknown color'\n",
    "            else:\n",
    "                print 'unknown color'\n",
    "            ps.CommonFunction.show_img_jupyter(mask)\n",
    "            ps.CommonFunction.show_img_jupyter(roi)\n",
    "\n",
    "        # 图像处理\n",
    "        # 腐蚀膨胀\n",
    "        kernel = cv.getStructuringElement(cv.MORPH_RECT, (4, 4))\n",
    "        dilate = cv.dilate(mask, kernel)\n",
    "        erode = cv.erode(dilate, kernel)\n",
    "        ps.CommonFunction.show_img_jupyter(erode)\n",
    "        # 边缘检测\n",
    "        canny = cv.Canny(mask, 120, 120 * 3)\n",
    "        ps.CommonFunction.show_img_jupyter(canny)\n",
    "\n",
    "        # 判断形状\n",
    "        try:\n",
    "            # 找圆\n",
    "            circles = cv.HoughCircles(image=canny, method=cv.HOUGH_GRADIENT,\n",
    "                                      dp=1, minDist=200, param1=50, param2=30,\n",
    "                                      minRadius=5, maxRadius=25)\n",
    "            circles = np.uint16(np.round(circles))\n",
    "            for i in circles[0, :]:\n",
    "                cv.circle(roi, (i[0], i[1]), i[2], (0, 0, 255), 2)\n",
    "                print \"circle:\", i[2]\n",
    "            cir_time += 1\n",
    "        except:\n",
    "            try:\n",
    "                # 找轮廓\n",
    "                _, contours, _ = cv.findContours(canny, cv.RETR_EXTERNAL, cv.CHAIN_APPROX_SIMPLE)\n",
    "                print len(contours)\n",
    "                sum = contours[0].copy()\n",
    "                for contour in contours:\n",
    "                    sum = np.vstack((sum, contour))\n",
    "                cv.drawContours(roi, contours, -1, (0, 0, 255), 2)\n",
    "                # 找外接矩形，比较面积判断是正方形还是三角形\n",
    "                rect = cv.minAreaRect(sum)\n",
    "                width, height = rect[1]\n",
    "                box_pixel = width * height\n",
    "                print box_pixel, real_pixel, real_pixel / box_pixel\n",
    "                if real_pixel / box_pixel < 0.7:\n",
    "                    print \"三角形\"\n",
    "                    tri_time += 1\n",
    "                else:\n",
    "                    print \"正方形\"\n",
    "                    rect_time += 1\n",
    "                box = cv.boxPoints(rect)\n",
    "                box = np.int0(box)\n",
    "                cv.drawContours(roi, [box], 0, (255, 0, 0), 1)\n",
    "            except:\n",
    "                pass\n",
    "\n",
    "    if (cir_time > tri_time) and (cir_time > rect_time):\n",
    "        shape = 0\n",
    "    elif (rect_time > cir_time) and (rect_time > tri_time):\n",
    "        shape = 1\n",
    "    elif (tri_time > rect_time) and (tri_time > cir_time):\n",
    "        shape = 2\n",
    "\n",
    "    if (blue_time > green_time) and (blue_time > red_time):\n",
    "        color = 0\n",
    "    elif (green_time > blue_time) and (green_time > red_time):\n",
    "        color = 1\n",
    "    elif (red_time > green_time) and (red_time > blue_time):\n",
    "        color = 2\n",
    "\n",
    "    real_pixel = int(np.average(real_pixel_list))\n",
    "\n",
    "    ps.CommonFunction.show_img_jupyter(roi)\n",
    "    send = [magicword_start, color, ord(','), shape, ord(','), real_pixel // 256, real_pixel % 256, magicword_end]\n",
    "    ser.u_send_bytes(np.array(send))\n",
    "    print send\n",
    "\n",
    "    if test_fps:\n",
    "        time1 = time.time()\n",
    "        fps = 1 / (time1 - time0)\n",
    "        print fps\n",
    "    time.sleep(1)"
   ],
   "metadata": {
    "collapsed": false,
    "pycharm": {
     "name": "#%%\n"
    }
   }
  }
 ],
 "metadata": {
  "kernelspec": {
   "display_name": "Python 2",
   "language": "python",
   "name": "python2"
  },
  "language_info": {
   "codemirror_mode": {
    "name": "ipython",
    "version": 2
   },
   "file_extension": ".py",
   "mimetype": "text/x-python",
   "name": "python",
   "nbconvert_exporter": "python",
   "pygments_lexer": "ipython2",
   "version": "2.7.6"
  },
  "pycharm": {
   "stem_cell": {
    "cell_type": "raw",
    "source": [
     "# coding=utf-8"
    ],
    "metadata": {
     "collapsed": false
    }
   }
  }
 },
 "nbformat": 4,
 "nbformat_minor": 0
}