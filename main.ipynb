{
 "cells": [
  {
   "cell_type": "code",
   "execution_count": 12,
   "outputs": [],
   "source": [
    "import PowerSensor as ps\n",
    "import numpy as np\n",
    "import cv2\n",
    "import time\n",
    "from IPython.display import clear_output"
   ],
   "metadata": {
    "collapsed": false,
    "pycharm": {
     "name": "#%%\n"
    }
   }
  },
  {
   "cell_type": "code",
   "execution_count": 13,
   "outputs": [],
   "source": [
    "debug_flag = True"
   ],
   "metadata": {
    "collapsed": false,
    "pycharm": {
     "name": "#%%\n"
    }
   }
  },
  {
   "cell_type": "code",
   "execution_count": 14,
   "outputs": [],
   "source": [
    "cam = ps.ImageSensor()"
   ],
   "metadata": {
    "collapsed": false,
    "pycharm": {
     "name": "#%%\n"
    }
   }
  },
  {
   "cell_type": "code",
   "execution_count": 21,
   "outputs": [
    {
     "name": "stdout",
     "output_type": "stream",
     "text": [
      "green\n"
     ]
    },
    {
     "data": {
      "image/png": "[encoded data removed]",
      "text/plain": "<IPython.core.display.Image object>"
     },
     "metadata": {},
     "output_type": "display_data"
    },
    {
     "data": {
      "image/png": "[encoded data removed]",
      "text/plain": "<IPython.core.display.Image object>"
     },
     "metadata": {},
     "output_type": "display_data"
    },
    {
     "name": "stdout",
     "output_type": "stream",
     "text": [
      "4.44223396188\n"
     ]
    },
    {
     "ename": "KeyboardInterrupt",
     "evalue": "",
     "output_type": "error",
     "traceback": [
      "\u001B[0;31m\u001B[0m",
      "\u001B[0;31mKeyboardInterrupt\u001B[0mTraceback (most recent call last)",
      "\u001B[0;32m<ipython-input-21-5f1f0a2b3797>\u001B[0m in \u001B[0;36m<module>\u001B[0;34m()\u001B[0m\n\u001B[1;32m     56\u001B[0m         \u001B[0;32mfor\u001B[0m \u001B[0mi\u001B[0m \u001B[0;32min\u001B[0m \u001B[0mrange\u001B[0m\u001B[0;34m(\u001B[0m\u001B[0mmask\u001B[0m\u001B[0;34m.\u001B[0m\u001B[0mshape\u001B[0m\u001B[0;34m[\u001B[0m\u001B[0;36m0\u001B[0m\u001B[0;34m]\u001B[0m\u001B[0;34m)\u001B[0m\u001B[0;34m:\u001B[0m\u001B[0;34m\u001B[0m\u001B[0m\n\u001B[1;32m     57\u001B[0m             \u001B[0;32mfor\u001B[0m \u001B[0mj\u001B[0m \u001B[0;32min\u001B[0m \u001B[0mrange\u001B[0m\u001B[0;34m(\u001B[0m\u001B[0mmask\u001B[0m\u001B[0;34m.\u001B[0m\u001B[0mshape\u001B[0m\u001B[0;34m[\u001B[0m\u001B[0;36m1\u001B[0m\u001B[0;34m]\u001B[0m\u001B[0;34m)\u001B[0m\u001B[0;34m:\u001B[0m\u001B[0;34m\u001B[0m\u001B[0m\n\u001B[0;32m---> 58\u001B[0;31m                 \u001B[0;32mif\u001B[0m \u001B[0mmask\u001B[0m\u001B[0;34m.\u001B[0m\u001B[0mitem\u001B[0m\u001B[0;34m(\u001B[0m\u001B[0mi\u001B[0m\u001B[0;34m,\u001B[0m \u001B[0mj\u001B[0m\u001B[0;34m,\u001B[0m \u001B[0mcolor\u001B[0m\u001B[0;34m)\u001B[0m \u001B[0;34m!=\u001B[0m \u001B[0;36m0\u001B[0m\u001B[0;34m:\u001B[0m\u001B[0;34m\u001B[0m\u001B[0m\n\u001B[0m\u001B[1;32m     59\u001B[0m                     \u001B[0mmask\u001B[0m\u001B[0;34m[\u001B[0m\u001B[0mi\u001B[0m\u001B[0;34m,\u001B[0m \u001B[0mj\u001B[0m\u001B[0;34m]\u001B[0m \u001B[0;34m=\u001B[0m \u001B[0;34m[\u001B[0m\u001B[0;36m0\u001B[0m\u001B[0;34m,\u001B[0m \u001B[0;36m0\u001B[0m\u001B[0;34m,\u001B[0m \u001B[0;36m0\u001B[0m\u001B[0;34m]\u001B[0m\u001B[0;34m\u001B[0m\u001B[0m\n\u001B[1;32m     60\u001B[0m     \u001B[0;32mif\u001B[0m \u001B[0mdebug_flag\u001B[0m\u001B[0;34m:\u001B[0m\u001B[0;34m\u001B[0m\u001B[0m\n",
      "\u001B[0;31mKeyboardInterrupt\u001B[0m: "
     ]
    }
   ],
   "source": [
    "while True:\n",
    "    if debug_flag:\n",
    "        time0 = time.time()\n",
    "    frame = cam.read_img_ori()\n",
    "    if debug_flag:\n",
    "        # ps.CommonFunction.show_img_jupyter(frame)\n",
    "        # time1 = time.time()\n",
    "        # fps = 1 / (time1 - time0)\n",
    "        # print fps\n",
    "        pass\n",
    "    roi = frame[170:250, 350:440].copy()\n",
    "    mask = np.zeros(roi.shape, roi.dtype)\n",
    "    if debug_flag:\n",
    "        pass\n",
    "        # ps.CommonFunction.show_img_jupyter(roi)\n",
    "    # 给明显的蓝绿红在mask上着色\n",
    "    blue_pixel = 0\n",
    "    green_pixel = 0\n",
    "    red_pixel = 0\n",
    "    # 0表示蓝，1表示绿，2表示红\n",
    "    color = -1\n",
    "    for i in range(roi.shape[0]):\n",
    "        for j in range(roi.shape[1]):\n",
    "            # print(frame.item(i, j, 0), frame.item(i, j, 1), frame.item(i, j, 2))\n",
    "            if (roi.item(i, j, 0) - roi.item(i, j, 1) > 50) and (roi.item(i, j, 0) - roi.item(i, j, 2) > 50):\n",
    "                color = 0\n",
    "                blue_pixel += 1\n",
    "                # print('blue')\n",
    "                # print(frame.item(i, j, 0), frame.item(i, j, 1), frame.item(i, j, 2))\n",
    "                mask[i, j] = [0, 255, 255]\n",
    "            elif (roi.item(i, j, 1) - roi.item(i, j, 0) > 30) and (roi.item(i, j, 1) - roi.item(i, j, 2) > 30):\n",
    "                color = 1\n",
    "                green_pixel += 1\n",
    "                # print('green')\n",
    "                # print(frame.item(i, j, 0), frame.item(i, j, 1), frame.item(i, j, 2))\n",
    "                mask[i, j] = [255, 0, 255]\n",
    "            elif (roi.item(i, j, 2) - roi.item(i, j, 1) > 30) and (roi.item(i, j, 2) - roi.item(i, j, 0) > 30):\n",
    "                color = 2\n",
    "                red_pixel += 1\n",
    "                # print('red')\n",
    "                # print(frame.item(i, j, 0), frame.item(i, j, 1), frame.item(i, j, 2))\n",
    "                mask[i, j] = [255, 255, 0]\n",
    "    # 判断图像的颜色\n",
    "    if blue_pixel > 100 or green_pixel > 100 or red_pixel > 100:\n",
    "        if blue_pixel > green_pixel and blue_pixel > red_pixel:\n",
    "            color = 0\n",
    "        elif green_pixel > blue_pixel and green_pixel > red_pixel:\n",
    "            color = 1\n",
    "        elif red_pixel > blue_pixel and red_pixel > green_pixel:\n",
    "            color = 2\n",
    "        else:\n",
    "            pass\n",
    "    else:\n",
    "        pass\n",
    "    # 根据判断出的颜色去除mask中的其他颜色\n",
    "    if color != -1:\n",
    "        for i in range(mask.shape[0]):\n",
    "            for j in range(mask.shape[1]):\n",
    "                if mask.item(i, j, color) != 0:\n",
    "                    mask[i, j] = [0, 0, 0]\n",
    "    if debug_flag:\n",
    "        clear_output(wait=True)\n",
    "        if blue_pixel > 100 or green_pixel > 100 or red_pixel > 100:\n",
    "            if blue_pixel > green_pixel and blue_pixel > red_pixel:\n",
    "                print 'blue'\n",
    "            elif green_pixel > blue_pixel and green_pixel > red_pixel:\n",
    "                print 'green'\n",
    "            elif red_pixel > blue_pixel and red_pixel > green_pixel:\n",
    "                print 'red'\n",
    "            else:\n",
    "                print 'unknown color'\n",
    "        else:\n",
    "            print 'unknown color'\n",
    "        ps.CommonFunction.show_img_jupyter(mask)\n",
    "        ps.CommonFunction.show_img_jupyter(roi)\n",
    "        time1 = time.time()\n",
    "        fps = 1 / (time1 - time0)\n",
    "        print fps\n",
    "    # 腐蚀膨胀\n",
    "    \n"
   ],
   "metadata": {
    "collapsed": false,
    "pycharm": {
     "name": "#%%\n"
    }
   }
  }
 ],
 "metadata": {
  "kernelspec": {
   "display_name": "Python 2",
   "language": "python",
   "name": "python2"
  },
  "language_info": {
   "codemirror_mode": {
    "name": "ipython",
    "version": 2
   },
   "file_extension": ".py",
   "mimetype": "text/x-python",
   "name": "python",
   "nbconvert_exporter": "python",
   "pygments_lexer": "ipython2",
   "version": "2.7.6"
  },
  "pycharm": {
   "stem_cell": {
    "cell_type": "raw",
    "source": [
     "# coding=utf-8"
    ],
    "metadata": {
     "collapsed": false
    }
   }
  }
 },
 "nbformat": 4,
 "nbformat_minor": 0
}